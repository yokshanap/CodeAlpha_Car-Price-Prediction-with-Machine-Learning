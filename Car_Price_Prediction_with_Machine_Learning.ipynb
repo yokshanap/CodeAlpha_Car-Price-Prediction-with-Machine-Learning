{
  "nbformat": 4,
  "nbformat_minor": 0,
  "metadata": {
    "colab": {
      "private_outputs": true,
      "provenance": []
    },
    "kernelspec": {
      "name": "python3",
      "display_name": "Python 3"
    },
    "language_info": {
      "name": "python"
    }
  },
  "cells": [
    {
      "cell_type": "code",
      "execution_count": null,
      "metadata": {
        "id": "URprKfVqlOY3"
      },
      "outputs": [],
      "source": [
        "import pandas as pd\n",
        "import numpy as np\n",
        "\n",
        "# Set random seed for reproducibility\n",
        "np.random.seed(42)\n",
        "\n",
        "# Possible brands and fuel types\n",
        "brands = [\"Toyota\", \"Honda\", \"BMW\", \"Audi\", \"Ford\", \"Hyundai\", \"Kia\"]\n",
        "fuel_types = [\"Petrol\", \"Diesel\", \"Electric\", \"Hybrid\"]\n",
        "\n",
        "# Generate synthetic data\n",
        "n_samples = 200\n",
        "data = {\n",
        "    \"Brand\": np.random.choice(brands, n_samples),\n",
        "    \"Horsepower\": np.random.randint(70, 400, n_samples),        # in HP\n",
        "    \"Mileage\": np.random.randint(8, 25, n_samples),              # km per litre\n",
        "    \"Age\": np.random.randint(0, 15, n_samples),                  # years old\n",
        "    \"Fuel_Type\": np.random.choice(fuel_types, n_samples),\n",
        "}\n",
        "\n",
        "# Price formula (synthetic)\n",
        "base_price = 500000  # base in INR\n",
        "price = (\n",
        "    base_price\n",
        "    + (data[\"Horsepower\"] * 1500)          # more HP, higher price\n",
        "    - (data[\"Age\"] * 20000)                # older cars cheaper\n",
        "    + (data[\"Mileage\"] * 1000)             # better mileage, higher price\n",
        "    + np.random.randint(-50000, 50000, n_samples)  # random noise\n",
        ")\n",
        "\n",
        "data[\"Price\"] = price\n",
        "\n",
        "# Create DataFrame\n",
        "df = pd.DataFrame(data)\n",
        "\n",
        "# Save to CSV\n",
        "df.to_csv(\"car_data.csv\", index=False)\n",
        "\n",
        "print(df.head())\n"
      ]
    },
    {
      "cell_type": "code",
      "source": [
        "print(df.info())\n",
        "print(df.describe())\n",
        "print(df.isnull().sum())\n"
      ],
      "metadata": {
        "id": "0Z8mZdnjlZXc"
      },
      "execution_count": null,
      "outputs": []
    },
    {
      "cell_type": "code",
      "source": [
        "# Drop irrelevant columns\n",
        "df = df[['Brand', 'Horsepower', 'Mileage', 'Age', 'Fuel_Type', 'Price']]\n",
        "\n",
        "# Handle missing values\n",
        "df.fillna(df.mean(numeric_only=True), inplace=True)\n",
        "\n",
        "# Encode categorical features\n",
        "df = pd.get_dummies(df, columns=['Brand', 'Fuel_Type'], drop_first=True)\n"
      ],
      "metadata": {
        "id": "TUaghsDmle3Z"
      },
      "execution_count": null,
      "outputs": []
    },
    {
      "cell_type": "code",
      "source": [
        "from sklearn.model_selection import train_test_split\n",
        "\n",
        "X = df.drop('Price', axis=1)\n",
        "y = df['Price']\n",
        "\n",
        "X_train, X_test, y_train, y_test = train_test_split(\n",
        "    X, y, test_size=0.2, random_state=42\n",
        ")\n"
      ],
      "metadata": {
        "id": "whAUqzM-liwA"
      },
      "execution_count": null,
      "outputs": []
    },
    {
      "cell_type": "code",
      "source": [
        "from sklearn.linear_model import LinearRegression\n",
        "\n",
        "model = LinearRegression()\n",
        "model.fit(X_train, y_train)\n"
      ],
      "metadata": {
        "id": "R49T3_qZllsy"
      },
      "execution_count": null,
      "outputs": []
    },
    {
      "cell_type": "code",
      "source": [
        "from sklearn.metrics import r2_score, mean_absolute_error\n",
        "\n",
        "y_pred = model.predict(X_test)\n",
        "\n",
        "print(\"R² Score:\", r2_score(y_test, y_pred))\n",
        "print(\"Mean Absolute Error:\", mean_absolute_error(y_test, y_pred))\n"
      ],
      "metadata": {
        "id": "triAHJkUlpia"
      },
      "execution_count": null,
      "outputs": []
    },
    {
      "cell_type": "code",
      "source": [
        "import matplotlib.pyplot as plt\n",
        "\n",
        "plt.scatter(y_test, y_pred)\n",
        "plt.xlabel(\"Actual Prices\")\n",
        "plt.ylabel(\"Predicted Prices\")\n",
        "plt.title(\"Car Price Prediction\")\n",
        "plt.show()\n"
      ],
      "metadata": {
        "id": "ZkgnuMeTls-8"
      },
      "execution_count": null,
      "outputs": []
    },
    {
      "cell_type": "code",
      "source": [
        "\"\"\"\n",
        "8️⃣ Real-World Applications of Car Price Prediction\n",
        "\n",
        "1. Used Car Marketplaces (e.g., OLX, Cars24):\n",
        "   Model can instantly give sellers and buyers a fair price based on car specs.\n",
        "   Saves time compared to manual valuation.\n",
        "\n",
        "2. Insurance Companies:\n",
        "   Used to estimate a vehicle’s current value for premium and claim settlement.\n",
        "\n",
        "3. Car Dealerships:\n",
        "   Accurate trade-in values for customers, improving trust and sales.\n",
        "\n",
        "4. Banks / Loan Providers:\n",
        "   Helps decide the loan amount for a used car and reduces risk.\n",
        "\n",
        "5. Fleet Management Companies:\n",
        "   Assists in resale planning and optimizing vehicle disposal timing.\n",
        "\"\"\"\n"
      ],
      "metadata": {
        "id": "9iUjxwuRlxd6"
      },
      "execution_count": null,
      "outputs": []
    }
  ]
}